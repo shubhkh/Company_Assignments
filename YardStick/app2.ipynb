{
 "cells": [
  {
   "cell_type": "code",
   "execution_count": 1,
   "id": "92e34161",
   "metadata": {},
   "outputs": [],
   "source": [
    "import os\n",
    "import getpass\n",
    "import json\n",
    "import requests\n"
   ]
  },
  {
   "cell_type": "code",
   "execution_count": 2,
   "id": "2045a92f",
   "metadata": {},
   "outputs": [
    {
     "name": "stdout",
     "output_type": "stream",
     "text": [
      "API key stored in environment (temporary).\n"
     ]
    }
   ],
   "source": [
    "api_key = getpass.getpass(\"Paste your GROQ API key here: \")\n",
    "os.environ[\"GROQ_API_KEY\"] = api_key\n",
    "print(\"API key stored in environment (temporary).\")\n"
   ]
  },
  {
   "cell_type": "code",
   "execution_count": 3,
   "id": "2469e383",
   "metadata": {},
   "outputs": [
    {
     "name": "stdout",
     "output_type": "stream",
     "text": [
      "Client configured with Groq base: https://api.groq.com/openai/v1\n"
     ]
    }
   ],
   "source": [
    "import openai\n",
    "openai.api_key = os.environ.get(\"GROQ_API_KEY\")\n",
    "openai.api_base = \"https://api.groq.com/openai/v1\"\n",
    "print(\"Client configured with Groq base:\", openai.api_base)"
   ]
  },
  {
   "cell_type": "code",
   "execution_count": 4,
   "id": "ea973c6f",
   "metadata": {},
   "outputs": [],
   "source": [
    "def send_groq_request(messages, model=\"llama-3.3-70b-versatile\", max_tokens=50):\n",
    "    url = \"https://api.groq.com/openai/v1/chat/completions\"\n",
    "    headers = {\n",
    "        \"Authorization\": f\"Bearer {os.environ['GROQ_API_KEY']}\",\n",
    "        \"Content-Type\": \"application/json\"\n",
    "    }\n",
    "    payload = {\"model\": model, \"messages\": messages, \"max_tokens\": max_tokens}\n",
    "    response = requests.post(url, headers=headers, json=payload)\n",
    "    return response.json()"
   ]
  },
  {
   "cell_type": "code",
   "execution_count": 5,
   "id": "2fed9b96",
   "metadata": {},
   "outputs": [
    {
     "name": "stdout",
     "output_type": "stream",
     "text": [
      "Hello. Yes, I'm reachable and ready to assist you. How can I help you today?\n"
     ]
    }
   ],
   "source": [
    "messages = [\n",
    "    {\"role\": \"system\", \"content\": \"You are a helpful assistant.\"},\n",
    "    {\"role\": \"user\", \"content\": \"Say 'hello' and confirm you're reachable.\"}\n",
    "]\n",
    "resp = send_groq_request(messages)\n",
    "print(resp[\"choices\"][0][\"message\"][\"content\"])"
   ]
  },
  {
   "cell_type": "code",
   "execution_count": 6,
   "id": "48ecd92d",
   "metadata": {},
   "outputs": [],
   "source": [
    "conversation_history = []\n",
    "\n",
    "def add_message(role, content):\n",
    "    conversation_history.append({\"role\": role, \"content\": content})\n",
    "\n",
    "def truncate_by_turns(n):\n",
    "    return conversation_history[-n:]\n",
    "\n",
    "def truncate_by_length(max_chars):\n",
    "    total = 0\n",
    "    truncated = []\n",
    "    for msg in reversed(conversation_history):\n",
    "        if total + len(msg[\"content\"]) <= max_chars:\n",
    "            truncated.insert(0, msg)\n",
    "            total += len(msg[\"content\"])\n",
    "        else:\n",
    "            break\n",
    "    return truncated"
   ]
  },
  {
   "cell_type": "code",
   "execution_count": 7,
   "id": "0999c8ff",
   "metadata": {},
   "outputs": [],
   "source": [
    "add_message(\"user\", \"Hello, can you help me with Python?\")\n",
    "add_message(\"assistant\", \"Sure! What do you need help with?\")\n",
    "add_message(\"user\", \"Explain lists and dictionaries.\")\n",
    "add_message(\"assistant\", \"Lists are ordered collections; dictionaries are key-value pairs.\")\n"
   ]
  },
  {
   "cell_type": "code",
   "execution_count": 8,
   "id": "afe997a6",
   "metadata": {},
   "outputs": [
    {
     "name": "stdout",
     "output_type": "stream",
     "text": [
      "Last 2 turns: [{'role': 'user', 'content': 'Explain lists and dictionaries.'}, {'role': 'assistant', 'content': 'Lists are ordered collections; dictionaries are key-value pairs.'}]\n",
      "Truncated by 50 chars: []\n"
     ]
    }
   ],
   "source": [
    "print(\"Last 2 turns:\", truncate_by_turns(2))\n",
    "print(\"Truncated by 50 chars:\", truncate_by_length(50))"
   ]
  },
  {
   "cell_type": "code",
   "execution_count": 9,
   "id": "29e16c29",
   "metadata": {},
   "outputs": [],
   "source": [
    "def summarize_conversation():\n",
    "    if not conversation_history:\n",
    "        return []\n",
    "    messages = [\n",
    "        {\"role\": \"system\", \"content\": \"Summarize this conversation concisely.\"},\n",
    "        {\"role\": \"user\", \"content\": json.dumps(conversation_history)}\n",
    "    ]\n",
    "    summary = send_groq_request(messages, max_tokens=200)\n",
    "    return [{\"role\": \"system\", \"content\": \"Summary: \" + summary[\"choices\"][0][\"message\"][\"content\"]}]\n"
   ]
  },
  {
   "cell_type": "code",
   "execution_count": 10,
   "id": "9d182f57",
   "metadata": {},
   "outputs": [],
   "source": [
    "def add_message_with_summary(role, content, k=3):\n",
    "    add_message(role, content)\n",
    "    if len(conversation_history) % k == 0:\n",
    "        summary = summarize_conversation()\n",
    "        conversation_history.clear()\n",
    "        conversation_history.extend(summary)\n",
    "        print(f\"--- Conversation summarized after {k} messages ---\")"
   ]
  },
  {
   "cell_type": "code",
   "execution_count": 11,
   "id": "044afb30",
   "metadata": {},
   "outputs": [
    {
     "name": "stdout",
     "output_type": "stream",
     "text": [
      "--- Conversation summarized after 3 messages ---\n",
      "--- Conversation summarized after 3 messages ---\n"
     ]
    }
   ],
   "source": [
    "conversation_history.clear()\n",
    "add_message_with_summary(\"user\", \"Hi, I want to learn Python basics.\", k=3)\n",
    "add_message_with_summary(\"assistant\", \"Let's start with variables.\", k=3)\n",
    "add_message_with_summary(\"user\", \"Can you also explain lists?\", k=3)\n",
    "add_message_with_summary(\"assistant\", \"Lists are ordered collections in Python.\", k=3)\n",
    "add_message_with_summary(\"user\", \"What about dictionaries?\", k=3)\n",
    "add_message_with_summary(\"assistant\", \"Dictionaries store key-value pairs.\", k=3)"
   ]
  },
  {
   "cell_type": "code",
   "execution_count": 12,
   "id": "59b8614f",
   "metadata": {},
   "outputs": [
    {
     "name": "stdout",
     "output_type": "stream",
     "text": [
      "\n",
      "Current conversation history:\n",
      "system: Summary: A user is learning Python basics, starting with variables and lists, and has now asked about dictionaries.\n",
      "assistant: Dictionaries store key-value pairs.\n"
     ]
    }
   ],
   "source": [
    "print(\"\\nCurrent conversation history:\")\n",
    "for msg in conversation_history:\n",
    "    print(f\"{msg['role']}: {msg['content']}\")"
   ]
  },
  {
   "cell_type": "code",
   "execution_count": 13,
   "id": "7a669240",
   "metadata": {},
   "outputs": [],
   "source": [
    "function_schema = {\n",
    "    \"name\": \"extract_user_info\",\n",
    "    \"description\": \"Extract name, email, phone, location, and age from chat\",\n",
    "    \"parameters\": {\n",
    "        \"type\": \"object\",\n",
    "        \"properties\": {\n",
    "            \"name\": {\"type\": \"string\"},\n",
    "            \"email\": {\"type\": \"string\"},\n",
    "            \"phone\": {\"type\": \"string\"},\n",
    "            \"location\": {\"type\": \"string\"},\n",
    "            \"age\": {\"type\": \"integer\"}\n",
    "        },\n",
    "        \"required\": [\"name\", \"email\", \"phone\", \"location\", \"age\"]\n",
    "    }\n",
    "}"
   ]
  },
  {
   "cell_type": "code",
   "execution_count": 14,
   "id": "b118e7c3",
   "metadata": {},
   "outputs": [],
   "source": [
    "def extract_user_info(chat_text):\n",
    "    payload = {\n",
    "        \"model\": \"llama-3.3-70b-versatile\",\n",
    "        \"messages\": [{\"role\": \"user\", \"content\": chat_text}],\n",
    "        \"functions\": [function_schema],\n",
    "        \"function_call\": {\"name\": \"extract_user_info\"},\n",
    "        \"max_tokens\": 200\n",
    "    }\n",
    "    url = \"https://api.groq.com/openai/v1/chat/completions\"\n",
    "    headers = {\"Authorization\": f\"Bearer {os.environ['GROQ_API_KEY']}\", \"Content-Type\": \"application/json\"}\n",
    "    resp = requests.post(url, headers=headers, json=payload)\n",
    "    func_args = resp.json()[\"choices\"][0][\"message\"][\"function_call\"][\"arguments\"]\n",
    "    return json.loads(func_args)"
   ]
  },
  {
   "cell_type": "code",
   "execution_count": 15,
   "id": "e69d157f",
   "metadata": {},
   "outputs": [
    {
     "name": "stdout",
     "output_type": "stream",
     "text": [
      "{\n",
      "  \"age\": 24,\n",
      "  \"email\": \"shubham@example.com\",\n",
      "  \"location\": \"Pune\",\n",
      "  \"name\": \"Shubham Khedekar\",\n",
      "  \"phone\": \"9876543210\"\n",
      "}\n"
     ]
    }
   ],
   "source": [
    "sample_chat = \"Hi, I'm Shubham Khedekar. My email is shubham@example.com, phone 9876543210, location Pune, age 24.\"\n",
    "info = extract_user_info(sample_chat)\n",
    "print(json.dumps(info, indent=2))"
   ]
  },
  {
   "cell_type": "code",
   "execution_count": 16,
   "id": "413a9684",
   "metadata": {},
   "outputs": [
    {
     "name": "stdout",
     "output_type": "stream",
     "text": [
      "{\n",
      "  \"age\": 24,\n",
      "  \"email\": \"shubham@example.com\",\n",
      "  \"location\": \"Pune\",\n",
      "  \"name\": \"Shubham Khedekar\",\n",
      "  \"phone\": \"9876543210\"\n",
      "}\n",
      "{\n",
      "  \"age\": 30,\n",
      "  \"email\": \"priya@abc.com\",\n",
      "  \"location\": \"Bangalore\",\n",
      "  \"name\": \"Priya Singh\",\n",
      "  \"phone\": \"9123456789\"\n",
      "}\n",
      "{\n",
      "  \"age\": 28,\n",
      "  \"email\": \"rohan@gmail.com\",\n",
      "  \"location\": \"Mumbai\",\n",
      "  \"name\": \"Rohan Sharma\",\n",
      "  \"phone\": \"9988776655\"\n",
      "}\n"
     ]
    }
   ],
   "source": [
    "sample_chats = [\n",
    "    \"Hi, I'm Shubham Khedekar. My email is shubham@example.com, phone is 9876543210, I live in Pune, and I’m 24.\",\n",
    "    \"Hello, my name is Priya Singh, I’m 30, based in Bangalore. You can reach me at priya@abc.com or 9123456789.\",\n",
    "    \"This is Rohan Sharma, age 28, location Mumbai. Contact: rohan@gmail.com, 9988776655.\"\n",
    "]\n",
    "\n",
    "for chat in sample_chats:\n",
    "    info = extract_user_info(chat)\n",
    "    print(json.dumps(info, indent=2))\n"
   ]
  },
  {
   "cell_type": "code",
   "execution_count": null,
   "id": "bd2c3bd5",
   "metadata": {},
   "outputs": [],
   "source": []
  }
 ],
 "metadata": {
  "kernelspec": {
   "display_name": "Python 3",
   "language": "python",
   "name": "python3"
  },
  "language_info": {
   "codemirror_mode": {
    "name": "ipython",
    "version": 3
   },
   "file_extension": ".py",
   "mimetype": "text/x-python",
   "name": "python",
   "nbconvert_exporter": "python",
   "pygments_lexer": "ipython3",
   "version": "3.13.7"
  }
 },
 "nbformat": 4,
 "nbformat_minor": 5
}
